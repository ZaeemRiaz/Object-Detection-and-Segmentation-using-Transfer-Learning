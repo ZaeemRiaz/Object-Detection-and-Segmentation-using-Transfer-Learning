{
 "cells": [
  {
   "cell_type": "code",
   "execution_count": 21,
   "metadata": {
    "pycharm": {
     "name": "#%%\n"
    }
   },
   "outputs": [],
   "source": [
    "import xml.etree.ElementTree as ET\n",
    "path = 'Dataset/pak cnic/annots/'\n",
    "label_file_read = path + '00004.xml'\n",
    "label_file_write = path + '00004c.xml'\n",
    "tree = ET.parse(label_file_read)\n",
    "root = tree.getroot()\n",
    "\n",
    "\n",
    "for object_ in root.findall('object'):\n",
    "\n",
    "    # get class name if needed\n",
    "\n",
    "    for box in object_.findall('bndbox'):\n",
    "        xmin = int(box.find('xmin').text)\n",
    "        ymin = int(box.find('ymin').text)\n",
    "        xmax = int(box.find('xmax').text)\n",
    "        ymax = int(box.find('ymax').text)\n",
    "\n",
    "        xminNew = xmin * 2\n",
    "        yminNew = ymin * 2\n",
    "        xmaxNew = xmax * 2\n",
    "        ymaxNew = ymax * 2\n",
    "        box.find('xmin').text = str(xminNew)\n",
    "        box.find('ymin').text = str(yminNew)\n",
    "        box.find('xmax').text = str(xmaxNew)\n",
    "        box.find('ymax').text = str(ymaxNew)\n",
    "\n",
    "tree.write(label_file_write)"
   ]
  }
 ],
 "metadata": {
  "kernelspec": {
   "display_name": "Python 3",
   "language": "python",
   "name": "python3"
  },
  "language_info": {
   "codemirror_mode": {
    "name": "ipython",
    "version": 3
   },
   "file_extension": ".py",
   "mimetype": "text/x-python",
   "name": "python",
   "nbconvert_exporter": "python",
   "pygments_lexer": "ipython3",
   "version": "3.9.1"
  }
 },
 "nbformat": 4,
 "nbformat_minor": 1
}