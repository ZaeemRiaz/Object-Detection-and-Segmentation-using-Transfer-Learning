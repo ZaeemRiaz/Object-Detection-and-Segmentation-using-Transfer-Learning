{
 "cells": [
  {
   "cell_type": "code",
   "execution_count": 2,
   "metadata": {
    "pycharm": {
     "name": "#%%\n"
    }
   },
   "outputs": [],
   "source": [
    "import xml.etree.ElementTree as ET\n",
    "\n",
    "import cv2\n",
    "from PIL import Image\n",
    "from numpy import asarray\n",
    "\n",
    "main_path = 'Dataset/uk lic/'\n",
    "path = main_path + 'augmented/'\n",
    "# for img_file in glob.glob(path + '/*.jpg'):\n",
    "for i in range(18,1359, 45):\n",
    "    img_file = path + str(i) + '.jpg'\n",
    "    image = Image.open(img_file)\n",
    "    img = asarray(image)\n",
    "    xml_path = img_file[:-4]\n",
    "    label_file_read = xml_path + '.xml'\n",
    "\n",
    "\n",
    "    tree = ET.parse(label_file_read)\n",
    "    root = tree.getroot()\n",
    "\n",
    "    class_name_list = []\n",
    "    bnd_box_list = []\n",
    "\n",
    "    # read filename\n",
    "    filename = root.find('filename').text\n",
    "\n",
    "    # read size\n",
    "    sizeTag = root.find('size')\n",
    "    size = sizeTag.find('width').text, sizeTag.find('height').text, sizeTag.find('depth').text\n",
    "\n",
    "    for objectTag in root.findall('object'):\n",
    "\n",
    "        # read class name\n",
    "        class_name = objectTag.find('name').text\n",
    "\n",
    "        # read bndboxes\n",
    "        box = objectTag.find('bndbox')\n",
    "        xmin = int(box.find('xmin').text)\n",
    "        ymin = int(box.find('ymin').text)\n",
    "        xmax = int(box.find('xmax').text)\n",
    "        ymax = int(box.find('ymax').text)\n",
    "\n",
    "        cv2.rectangle(img, (xmin, ymin), (xmax, ymax), (0, 0, 255), 2)\n",
    "\n",
    "        cv2.imwrite(main_path + 'bndbox/' + str(i) + '.jpg',img)\n",
    "        # im = Image.fromarray(img_aug)\n",
    "        # im = im.convert('RGB')\n",
    "        # im.save(\"Dataset/pak cnic/augmented/\" + filename_save + \".jpeg\")\n",
    "        # store in lists\n",
    "        class_name_list.append(class_name)\n",
    "        bnd_box_list.append([xmin,ymin,xmax,ymax])\n"
   ]
  }
 ],
 "metadata": {
  "kernelspec": {
   "display_name": "Python 3",
   "language": "python",
   "name": "python3"
  },
  "language_info": {
   "codemirror_mode": {
    "name": "ipython",
    "version": 3
   },
   "file_extension": ".py",
   "mimetype": "text/x-python",
   "name": "python",
   "nbconvert_exporter": "python",
   "pygments_lexer": "ipython3",
   "version": "3.9.1"
  }
 },
 "nbformat": 4,
 "nbformat_minor": 1
}