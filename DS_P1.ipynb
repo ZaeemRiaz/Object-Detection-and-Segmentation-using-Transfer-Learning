{
 "cells": [
  {
   "cell_type": "code",
   "execution_count": 2,
   "metadata": {
    "pycharm": {
     "name": "#%%\n"
    }
   },
   "outputs": [
    {
     "name": "stdout",
     "output_type": "stream",
     "text": [
      "5.jpg\n",
      "('540', '400', '3')\n",
      "['First Name', 'Last Name', 'Country', 'ID Number', 'DOB']\n",
      "[[149, 85, 265, 124], [146, 157, 327, 196], [203, 229, 302, 268], [144, 275, 275, 313], [280, 275, 367, 312]]\n"
     ]
    }
   ],
   "source": [
    "import xml.etree.ElementTree as ET\n",
    "\n",
    "path = 'Dataset/pak cnic/annots/'\n",
    "label_file_read = path + '00005.xml'\n",
    "tree = ET.parse(label_file_read)\n",
    "root = tree.getroot()\n",
    "\n",
    "class_name_list = []\n",
    "bnd_box_list = []\n",
    "\n",
    "# read filename\n",
    "filename = root.find('filename').text\n",
    "\n",
    "# read size\n",
    "sizeTag = root.find('size')\n",
    "size = sizeTag.find('width').text, sizeTag.find('height').text, sizeTag.find('depth').text\n",
    "\n",
    "for objectTag in root.findall('object'):\n",
    "\n",
    "    # read class name\n",
    "    class_name = objectTag.find('name').text\n",
    "\n",
    "    # read bndboxes\n",
    "    box = objectTag.find('bndbox')\n",
    "    xmin = int(box.find('xmin').text)\n",
    "    ymin = int(box.find('ymin').text)\n",
    "    xmax = int(box.find('xmax').text)\n",
    "    ymax = int(box.find('ymax').text)\n",
    "\n",
    "    # store in lists\n",
    "    class_name_list.append(class_name)\n",
    "    bnd_box_list.append([xmin,ymin,xmax,ymax])\n",
    "\n",
    "print(filename)\n",
    "print(size)\n",
    "print(class_name_list)\n",
    "print(bnd_box_list)\n"
   ]
  },
  {
   "cell_type": "code",
   "execution_count": 3,
   "outputs": [],
   "source": [
    "# write all 3 lists to xml file\n",
    "\n",
    "label_file_write = path + '00005c.xml'\n",
    "\n",
    "annotation_tag = ET.Element('annotation')\n",
    "\n",
    "# write filename to tree\n",
    "filename_tag = ET.SubElement(annotation_tag, 'filename')\n",
    "filename_tag.text = filename\n",
    "\n",
    "# write size to tree\n",
    "size_tag = ET.SubElement(annotation_tag, 'size')\n",
    "width_tag = ET.SubElement(size_tag, 'width')\n",
    "height_tag = ET.SubElement(size_tag, 'height')\n",
    "depth_tag = ET.SubElement(size_tag, 'depth')\n",
    "width_tag.text, height_tag.text, depth_tag.text = size\n",
    "\n",
    "# iterate through all bounding boxes and add to tree\n",
    "for i in range(len(class_name_list)):\n",
    "    object_tag = ET.SubElement(annotation_tag, 'object')\n",
    "\n",
    "    # replace class_name_list with modified version\n",
    "    name_tag = ET.SubElement(object_tag, 'name')\n",
    "    name_tag.text = class_name_list[i]\n",
    "\n",
    "    # replace bnd_box_list with modified version\n",
    "    bnd_box_tag = ET.SubElement(object_tag, 'bndbox')\n",
    "    xmin_tag = ET.SubElement(bnd_box_tag, 'xmin')\n",
    "    ymin_tag = ET.SubElement(bnd_box_tag, 'ymin')\n",
    "    xmax_tag = ET.SubElement(bnd_box_tag, 'xmax')\n",
    "    ymax_tag = ET.SubElement(bnd_box_tag, 'ymax')\n",
    "    xmin_tag.text = str(bnd_box_list[i][0])\n",
    "    ymin_tag.text = str(bnd_box_list[i][1])\n",
    "    xmax_tag.text = str(bnd_box_list[i][2])\n",
    "    ymax_tag.text = str(bnd_box_list[i][3])\n",
    "\n",
    "# create element tree to export as xml\n",
    "tree = ET.ElementTree(annotation_tag)\n",
    "tree.write(path + 'test1.xml', encoding=\"utf-8\")\n"
   ],
   "metadata": {
    "collapsed": false,
    "pycharm": {
     "name": "#%%\n"
    }
   }
  }
 ],
 "metadata": {
  "kernelspec": {
   "display_name": "Python 3",
   "language": "python",
   "name": "python3"
  },
  "language_info": {
   "codemirror_mode": {
    "name": "ipython",
    "version": 3
   },
   "file_extension": ".py",
   "mimetype": "text/x-python",
   "name": "python",
   "nbconvert_exporter": "python",
   "pygments_lexer": "ipython3",
   "version": "3.9.1"
  }
 },
 "nbformat": 4,
 "nbformat_minor": 1
}